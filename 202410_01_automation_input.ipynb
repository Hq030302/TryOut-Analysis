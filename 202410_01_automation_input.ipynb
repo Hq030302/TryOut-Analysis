{
 "cells": [
  {
   "cell_type": "markdown",
   "metadata": {},
   "source": [
    "# 1. Import Libraries"
   ]
  },
  {
   "cell_type": "code",
   "execution_count": 10,
   "metadata": {},
   "outputs": [],
   "source": [
    "import os\n",
    "import pandas\n",
    "import openpyxl\n",
    "import numpy"
   ]
  },
  {
   "cell_type": "markdown",
   "metadata": {},
   "source": [
    "# 2. Set Directory and Call Dataset"
   ]
  },
  {
   "cell_type": "code",
   "execution_count": 11,
   "metadata": {},
   "outputs": [
    {
     "data": {
      "text/plain": [
       "<openpyxl.workbook.workbook.Workbook at 0x26960e54910>"
      ]
     },
     "metadata": {},
     "output_type": "display_data"
    }
   ],
   "source": [
    "# 1. Function to declare path\n",
    "def declare_path() : \n",
    "    main_dir = f\"D:\\\\Freelance Data Scientist\"\n",
    "    data_dir = os.path.join(main_dir,f'202410\\\\01_Analisis TryOut UTBK')\n",
    "    data_dir_2 = os.path.join(data_dir, 'sample_report.xlsx')\n",
    "\n",
    "    return main_dir, data_dir, data_dir_2\n",
    "\n",
    "# 2. Funtion to call dataset\n",
    "def call_dataset(data_dir, data_dir_2, file_name) :\n",
    "\n",
    "    # For dataset 1 --> cleaned studentes dataset\n",
    "\n",
    "    if file_name.endswith(\"xlsx\") :\n",
    "        df_1 = pandas.read_excel(os.path.join(data_dir,file_name))\n",
    "    elif file_name.endswith(\".csv\") :\n",
    "        df_1 = pandas.read_csv(os.path.join(data_dir,file_name))\n",
    "    else :\n",
    "        print(\"Unsupported Format!\")\n",
    "\n",
    "    # For dataset 2 --> sample report (Using openpyxl)\n",
    "    df_2 = openpyxl.load_workbook(data_dir_2)\n",
    "\n",
    "    return df_1, df_2\n",
    "\n",
    "# 3. Running the syntax\n",
    "main_dir, data_dir, data_dir_2 = declare_path()\n",
    "df_cleaned, df_report = call_dataset(data_dir=data_dir, data_dir_2=data_dir_2, file_name=\"dataset_tryout.xlsx\")\n",
    "\n",
    "# Display our dataset\n",
    "display(df_report)"
   ]
  },
  {
   "cell_type": "markdown",
   "metadata": {},
   "source": [
    "# 3. Automation Input Function"
   ]
  },
  {
   "cell_type": "code",
   "execution_count": 12,
   "metadata": {},
   "outputs": [
    {
     "name": "stdout",
     "output_type": "stream",
     "text": [
      "Process completed. Reports have been generated.\n"
     ]
    }
   ],
   "source": [
    "def automation_table(dataset_1, dataset_2, output_dir, save_file=True):\n",
    "    \"\"\"\n",
    "    This function will take data from dataset_1 and put into dataset_2\n",
    "    according to the needed format!\n",
    "    \n",
    "    Args:\n",
    "    - dataset_1 : Dataframe from df_cleaned\n",
    "    - dataset_2 : Dataframe (openpyxl) from df_report\n",
    "    - save_file : boolean, it determines whether to save the output or not\n",
    "    - output_dir : directory of output directory\n",
    "    \"\"\"\n",
    "    \n",
    "    # Loop through each student in the dataset_cleaned\n",
    "    for index, row in dataset_1.iterrows():\n",
    "        # Load the sample report for each student\n",
    "        sheet = dataset_2.active\n",
    "        \n",
    "        # Input Student's identities\n",
    "        sheet['B2'] = row['full_name'].title()  # Student's name\n",
    "        sheet['B3'] = row['email'] # Student's email\n",
    "        sheet['B4'] = row['user_id']  # Student's id\n",
    "        sheet['B5'] = 'TRY OUT 1 PTN' # Try out title\n",
    "        \n",
    "        # Initialize columns G to O to fill the \"Nilai\" column\n",
    "        list_columns = ['Penalaran Kuantitatif', 'Literasi Bahasa Indonesia', 'Literasi Bahasa Inggris',\n",
    "                         'Penalaran Matematika', 'Pemahaman Bacaan & Menulis', 'Pengetahuan & Pemahaman Umum',\n",
    "                         'Pengetahuan Kuantitatif', 'Penalaran Induktif', 'Penalaran Deduktif']\n",
    "        \n",
    "        # Fill the \"Nilai\" section in the sample report (Column B, rows 9 to 17)\n",
    "        for i, col in enumerate(list_columns, start=9):\n",
    "            sheet[f'B{i}'] = row[col]\n",
    "        \n",
    "        # Calculate Rata-rata Siswa\n",
    "        avg_score = row[list_columns].mean()\n",
    "        sheet['D9'] = numpy.around(avg_score,2)  # Inputting average score in D9\n",
    "\n",
    "        # Determine national average score\n",
    "        national_avg = sheet[\"F9\"].value\n",
    "        \n",
    "        # Fill the Hasil section based on the comparison to the national average\n",
    "        if avg_score < national_avg:\n",
    "            sheet['G9'] = \"Nilai di bawah rata-rata nasional\"\n",
    "        else:\n",
    "            sheet['G9'] = \"Nilai di atas rata-rata nasional\"\n",
    "        \n",
    "        # Generate the file name based on student's name\n",
    "        student_name = row['full_name'].title().replace(\" \", \"_\")\n",
    "        output_file_name = f\"{student_name}_report.xlsx\"\n",
    "        \n",
    "        # Save the report for the specific student if save_file is True\n",
    "        if save_file :\n",
    "            dataset_2.save(os.path.join(output_dir, output_file_name))\n",
    "\n",
    "    print(\"Process completed. Reports have been generated.\" if save_file else \"Process completed. No files were saved.\")\n",
    "\n",
    "\n",
    "# Run the automation input\n",
    "automation_table(dataset_1=df_cleaned, dataset_2 = df_report, save_file=True, \n",
    "                 output_dir=os.path.join(data_dir,\"output_reports\"))"
   ]
  },
  {
   "cell_type": "markdown",
   "metadata": {},
   "source": [
    "4. Fungsi Grafik"
   ]
  },
  {
   "cell_type": "code",
   "execution_count": null,
   "metadata": {},
   "outputs": [],
   "source": []
  },
  {
   "cell_type": "code",
   "execution_count": null,
   "metadata": {},
   "outputs": [],
   "source": []
  }
 ],
 "metadata": {
  "kernelspec": {
   "display_name": "Python 3",
   "language": "python",
   "name": "python3"
  },
  "language_info": {
   "codemirror_mode": {
    "name": "ipython",
    "version": 3
   },
   "file_extension": ".py",
   "mimetype": "text/x-python",
   "name": "python",
   "nbconvert_exporter": "python",
   "pygments_lexer": "ipython3",
   "version": "3.13.0"
  }
 },
 "nbformat": 4,
 "nbformat_minor": 2
}
